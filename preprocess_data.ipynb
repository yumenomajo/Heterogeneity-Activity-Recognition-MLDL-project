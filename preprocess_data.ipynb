{
 "cells": [
  {
   "cell_type": "code",
   "execution_count": 3,
   "metadata": {
    "tags": []
   },
   "outputs": [],
   "source": [
    "import pandas as pd\n",
    "import numpy as np\n",
    "import pickle\n",
    "import matplotlib.pyplot as plt\n",
    "from scipy import stats\n",
    "import tensorflow as tf\n",
    "import seaborn as sns\n",
    "from pylab import rcParams\n",
    "from sklearn import metrics\n",
    "from sklearn.model_selection import train_test_split\n",
    "from scipy.stats import zscore\n",
    "%matplotlib inline\n",
    "sns.set(style='whitegrid', palette='muted', font_scale=1.5)\n",
    "rcParams['figure.figsize'] = 14, 8\n",
    "RANDOM_SEED = 42\n",
    "plt.rc('text', usetex=True)\n",
    "plt.rc('font', family='serif')"
   ]
  },
  {
   "cell_type": "code",
   "execution_count": 4,
   "metadata": {},
   "outputs": [],
   "source": [
    "df = pd.read_csv(\"./data_old/Phones_accelerometer.csv\")\n",
    "df = df.dropna(subset=['gt'])\n",
    "df.head()\n",
    "columns_to_standardize = ['x', 'y', 'z']\n",
    "df[columns_to_standardize] = df.groupby('Device')[columns_to_standardize].transform(zscore)\n"
   ]
  },
  {
   "cell_type": "code",
   "execution_count": 5,
   "metadata": {},
   "outputs": [],
   "source": [
    "# 定义常量\n",
    "N_TIME_STEPS = 200\n",
    "N_FEATURES = 3\n",
    "step = 20"
   ]
  },
  {
   "cell_type": "code",
   "execution_count": 6,
   "metadata": {},
   "outputs": [],
   "source": [
    "segments = []\n",
    "labels = []\n",
    "\n",
    "for i in range(0, len(df) - N_TIME_STEPS, step):\n",
    "    xs = df['x'].values[i: i + N_TIME_STEPS]\n",
    "    ys = df['y'].values[i: i + N_TIME_STEPS]\n",
    "    zs = df['z'].values[i: i + N_TIME_STEPS]\n",
    "    label = np.unique(df['gt'][i: i + N_TIME_STEPS].astype(str))[0]  # 使用np.unique替代stats.mode\n",
    "    segments.append([xs, ys, zs])\n",
    "    labels.append(label)"
   ]
  },
  {
   "cell_type": "code",
   "execution_count": 7,
   "metadata": {
    "tags": []
   },
   "outputs": [],
   "source": [
    "reshaped_segments = np.asarray(segments, dtype= np.float32).reshape(-1, N_TIME_STEPS, N_FEATURES)\n",
    "labels_np = np.asarray(labels)"
   ]
  },
  {
   "cell_type": "code",
   "execution_count": 8,
   "metadata": {
    "tags": []
   },
   "outputs": [],
   "source": [
    "X_train, X_test, y_train, y_test = train_test_split(reshaped_segments, labels_np, test_size=0.2)"
   ]
  },
  {
   "cell_type": "code",
   "execution_count": 9,
   "metadata": {
    "tags": []
   },
   "outputs": [],
   "source": [
    "x_train_reshaped = X_train.reshape(X_train.shape[0], N_TIME_STEPS * N_FEATURES)\n",
    "x_test_reshaped = X_test.reshape(X_test.shape[0], N_TIME_STEPS * N_FEATURES)"
   ]
  },
  {
   "cell_type": "code",
   "execution_count": 10,
   "metadata": {
    "tags": []
   },
   "outputs": [],
   "source": [
    "np.savetxt(\"x_train.csv\", x_train_reshaped, delimiter=\",\")\n",
    "np.savetxt(\"x_test.csv\", x_test_reshaped, delimiter=\",\")\n",
    "np.savetxt(\"y_train.csv\", y_train, delimiter=\",\", fmt=\"%s\")\n",
    "np.savetxt(\"y_test.csv\", y_test, delimiter=\",\", fmt=\"%s\")"
   ]
  },
  {
   "cell_type": "code",
   "execution_count": 15,
   "metadata": {},
   "outputs": [],
   "source": [
    "import pandas as pd\n",
    "import numpy as np\n",
    "import matplotlib.pyplot as plt\n",
    "import seaborn as sns\n",
    "from pylab import rcParams\n",
    "\n",
    "# 设置绘图\n",
    "sns.set(style='whitegrid', palette='muted', font_scale=1.5)\n",
    "rcParams['figure.figsize'] = 14, 8\n",
    "plt.rc('text', usetex=True)\n",
    "plt.rc('font', family='serif')\n",
    "\n",
    "# 读取数据\n",
    "df = pd.read_csv(\"./data_old/Phones_accelerometer.csv\")\n",
    "df = df.dropna(subset=['gt'])\n",
    "df.head()\n",
    "columns_to_standardize = ['x', 'y', 'z']\n",
    "df[columns_to_standardize] = df.groupby('Device')[columns_to_standardize].transform(zscore)\n",
    "# 定义常量\n",
    "N_TIME_STEPS = 200\n",
    "N_FEATURES = 3\n",
    "step = 20\n",
    "\n",
    "# 存储分段数据\n",
    "segments = []\n",
    "labels = []\n",
    "devices = []  # 添加设备信息\n",
    "\n",
    "# 分段并处理标签\n",
    "for i in range(0, len(df) - N_TIME_STEPS, step):\n",
    "    xs = df['x'].values[i: i + N_TIME_STEPS]\n",
    "    ys = df['y'].values[i: i + N_TIME_STEPS]\n",
    "    zs = df['z'].values[i: i + N_TIME_STEPS]\n",
    "    label = np.unique(df['gt'][i: i + N_TIME_STEPS].astype(str))[0]  # 使用np.unique替代stats.mode\n",
    "    device = df['Device'].iloc[i]  # 使用.iloc[]确保按行位置获取设备信息\n",
    "    segments.append([xs, ys, zs])\n",
    "    labels.append(label)\n",
    "    devices.append(device)\n",
    "\n",
    "# 转换为NumPy数组\n",
    "reshaped_segments = np.asarray(segments, dtype=np.float32).reshape(-1, N_TIME_STEPS, N_FEATURES)\n",
    "labels_np = np.asarray(labels)\n",
    "devices_np = np.asarray(devices)  # 转换设备信息为NumPy数组\n"
   ]
  },
  {
   "cell_type": "code",
   "execution_count": 16,
   "metadata": {},
   "outputs": [
    {
     "name": "stdout",
     "output_type": "stream",
     "text": [
      "2\n"
     ]
    }
   ],
   "source": [
    "print(2)"
   ]
  },
  {
   "cell_type": "code",
   "execution_count": 17,
   "metadata": {},
   "outputs": [],
   "source": [
    "\n",
    "# 遍历所有设备\n",
    "device_set = np.unique(devices_np)\n",
    "for device in device_set:\n",
    "    # 提取当前设备的数据\n",
    "    device_indices = np.where(devices_np == device)[0]\n",
    "    device_segments = reshaped_segments[device_indices]\n",
    "    device_labels = labels_np[device_indices]\n",
    "    \n",
    "    # 合并加速度数据 (x, y, z) 和标签\n",
    "    device_x = device_segments.reshape(-1, N_TIME_STEPS * N_FEATURES)  # x包含加速度数据\n",
    "    device_y = device_labels  # y包含标签数据\n",
    "    \n",
    "    # 保存为CSV文件\n",
    "    np.savetxt(f\"device{device}_x.csv\", device_x, delimiter=\",\")\n",
    "    np.savetxt(f\"device{device}_y.csv\", device_y, delimiter=\",\", fmt=\"%s\")"
   ]
  },
  {
   "cell_type": "code",
   "execution_count": null,
   "metadata": {},
   "outputs": [],
   "source": []
  }
 ],
 "metadata": {
  "kernelspec": {
   "display_name": "model",
   "language": "python",
   "name": "model"
  },
  "language_info": {
   "codemirror_mode": {
    "name": "ipython",
    "version": 3
   },
   "file_extension": ".py",
   "mimetype": "text/x-python",
   "name": "python",
   "nbconvert_exporter": "python",
   "pygments_lexer": "ipython3",
   "version": "3.12.7"
  }
 },
 "nbformat": 4,
 "nbformat_minor": 4
}
